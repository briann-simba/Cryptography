{
  "nbformat": 4,
  "nbformat_minor": 0,
  "metadata": {
    "colab": {
      "provenance": [],
      "collapsed_sections": []
    },
    "kernelspec": {
      "name": "python3",
      "display_name": "Python 3"
    },
    "language_info": {
      "name": "python"
    }
  },
  "cells": [
    {
      "cell_type": "code",
      "source": [
        "def mod_exp(x, y, p) :\n",
        "    res = 1     # Initialize result\n",
        " \n",
        "    # Update x if it is >=  p\n",
        "    x = x % p\n",
        "     \n",
        "    if (x == 0) :\n",
        "        return 0\n",
        " \n",
        "    while (y > 0) :\n",
        "         \n",
        "        # If y is odd, multiply\n",
        "        # x with result\n",
        "        if ((y & 1) == 1) :\n",
        "            res = (res * x) % p\n",
        " \n",
        "        # y must be even now\n",
        "        y = y >> 1      # y = y/2\n",
        "        x = (x * x) % p\n",
        "         \n",
        "    return res\n",
        "    \n",
        " \n",
        "x = 2; y = 5; p = 130\n",
        "print(\"Result is \", mod_exp(x, y, p))\n",
        " "
      ],
      "metadata": {
        "colab": {
          "base_uri": "https://localhost:8080/"
        },
        "id": "6c7ZV1bSPYYD",
        "outputId": "325458c3-7111-4024-aaba-c10e4e34f2ed"
      },
      "execution_count": null,
      "outputs": [
        {
          "output_type": "stream",
          "name": "stdout",
          "text": [
            "Result is  32\n"
          ]
        }
      ]
    },
    {
      "cell_type": "code",
      "source": [
        "def SieveOfEratosthenes(n):\n",
        "      \n",
        "    # Create a boolean array \"prime[0..n]\" and initialize\n",
        "    # all entries it as true. A value in prime[i] will\n",
        "    # finally be false if i is not a prime, else true.\n",
        "    prime = [True for i in range(n + 1)]\n",
        "    p = 2\n",
        "    while (p * p <= n):\n",
        "          \n",
        "        # If prime[p] is not changed, then it is a prime\n",
        "        if (prime[p] == True):\n",
        "              \n",
        "            # Update all multiples of p\n",
        "            for i in range(p * 2, n + 1, p):\n",
        "                prime[i] = False\n",
        "        p += 1\n",
        "    prime[0]= False\n",
        "    prime[1]= False\n",
        "    # Print all prime numbers\n",
        "    print(f'The prime numbers between 0 and {n} are:') \n",
        "    for p in range(n + 1):\n",
        "        if prime[p]:\n",
        "            print(p)\n",
        "SieveOfEratosthenes(10)"
      ],
      "metadata": {
        "colab": {
          "base_uri": "https://localhost:8080/"
        },
        "id": "XkF5j3XWPYiW",
        "outputId": "6eeb8c7a-b8b0-479a-f3b8-f3aa7ecb7384"
      },
      "execution_count": null,
      "outputs": [
        {
          "output_type": "stream",
          "name": "stdout",
          "text": [
            "The prime numbers between 0 and 10 are:\n",
            "2\n",
            "3\n",
            "5\n",
            "7\n"
          ]
        }
      ]
    },
    {
      "cell_type": "code",
      "source": [
        "from math import *\n",
        "\n",
        "def euclidean_algorithm(x, y, verbose=True):\n",
        "\tif x < y: # We want x >= y\n",
        "\t\treturn euclidean_algorithm(y, x, verbose)\n",
        "\tprint()\n",
        "\twhile y:\n",
        "\t\tif verbose: print('%s = %s * %s + %s' % (x, floor(x/y), y, x % y))\n",
        "\t\t(x, y) = (y, x % y)\n",
        "\t\n",
        "\tif verbose: print(f'Since {x} is the last non-zero remainder, gcd is {x}') \n",
        "\t# return x\n",
        "x = int(input(\"Enter First Value ::>\"))\n",
        "y = int(input(\"Enter Second Value ::>\"))  \n",
        "euclidean_algorithm(x,y)"
      ],
      "metadata": {
        "colab": {
          "base_uri": "https://localhost:8080/"
        },
        "id": "1RIdihurcA4K",
        "outputId": "ef9c724e-6724-4ddf-d1c4-964e8407d491"
      },
      "execution_count": null,
      "outputs": [
        {
          "output_type": "stream",
          "name": "stdout",
          "text": [
            "Enter First Value ::>486\n",
            "Enter Second Value ::>222\n",
            "\n",
            "486 = 2 * 222 + 42\n",
            "222 = 5 * 42 + 12\n",
            "42 = 3 * 12 + 6\n",
            "12 = 2 * 6 + 0\n",
            "Since 6 is the last non-zero remainder, gcd is 6\n"
          ]
        }
      ]
    },
    {
      "cell_type": "code",
      "source": [
        "def extendedGCD(a, b): \n",
        "    # Base Case \n",
        "    if a == 0 :  \n",
        "        return b,0,1\n",
        "             \n",
        "    gcd,x1,y1 = extendedGCD(b%a, a) \n",
        "     \n",
        "    # Update x and y using results of recursive call \n",
        "    x = y1 - (b//a) * x1 \n",
        "    y = x1 \n",
        "    \n",
        "    return gcd,x,y\n",
        "print(\"Enter 2 values whose GCD is 1\")\n",
        "a = int(input(\"Enter First Value ::\"))\n",
        "b = int(input(\"Enter Second Value ::\"))     \n",
        "gcd,x,y= extendedGCD(a,b)\n",
        "print(f'the gcd is : {gcd}') \n",
        "print(f'the value of x is : {x}') \n",
        "print(f'the value of y is : {y}') "
      ],
      "metadata": {
        "colab": {
          "base_uri": "https://localhost:8080/"
        },
        "id": "BtQg3N3Hfi4C",
        "outputId": "0ac7970d-0e7d-4c1f-cd1c-fc164cd00f1f"
      },
      "execution_count": 2,
      "outputs": [
        {
          "output_type": "stream",
          "name": "stdout",
          "text": [
            "Enter 2 values whose GCD is 1\n",
            "Enter First Value ::7\n",
            "Enter Second Value ::160\n",
            "the gcd is : 1\n",
            "the value of x is : 23\n",
            "the value of y is : -1\n"
          ]
        }
      ]
    },
    {
      "cell_type": "code",
      "source": [],
      "metadata": {
        "colab": {
          "base_uri": "https://localhost:8080/"
        },
        "id": "099Ec_i3Ynov",
        "outputId": "a01babec-1e75-4978-ef65-4dbb8ebf1b3a"
      },
      "execution_count": null,
      "outputs": [
        {
          "output_type": "stream",
          "name": "stdout",
          "text": [
            "2\n",
            "3\n",
            "5\n",
            "7\n"
          ]
        }
      ]
    }
  ]
}